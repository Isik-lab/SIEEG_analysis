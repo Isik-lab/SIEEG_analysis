{
 "cells": [
  {
   "cell_type": "code",
   "execution_count": 11,
   "metadata": {},
   "outputs": [
    {
     "name": "stderr",
     "output_type": "stream",
     "text": [
      "/Applications/anaconda3/envs/nibabel/lib/python3.10/site-packages/tqdm/auto.py:22: TqdmWarning: IProgress not found. Please update jupyter and ipywidgets. See https://ipywidgets.readthedocs.io/en/stable/user_install.html\n",
      "  from .autonotebook import tqdm as notebook_tqdm\n"
     ]
    }
   ],
   "source": [
    "from glob import glob\n",
    "import numpy as np\n",
    "import pandas as pd\n",
    "import matplotlib.pyplot as plt\n",
    "from pathlib import Path\n",
    "from scipy.spatial.distance import pdist\n",
    "from scipy.stats import spearmanr\n",
    "from tqdm import tqdm\n",
    "import seaborn as sns\n",
    "from itertools import combinations\n",
    "from src.mri import gen_mask\n",
    "from src.rsa import fit_and_predict\n",
    "import nibabel as nib\n",
    "import warnings\n",
    "from joblib import Parallel, delayed\n",
    "\n",
    "from sklearn.linear_model import LogisticRegression\n",
    "from sklearn.pipeline import Pipeline\n",
    "from sklearn.preprocessing import StandardScaler\n",
    "from sklearn.model_selection import LeaveOneGroupOut"
   ]
  },
  {
   "cell_type": "code",
   "execution_count": 2,
   "metadata": {},
   "outputs": [],
   "source": [
    "subj = 'sub-01'\n",
    "process = 'fMRI_RSA'\n",
    "decoding = True\n",
    "calculate_rdm = True\n",
    "\n",
    "top_path = '/Users/emcmaho7/Dropbox/projects/SI_EEG/SIEEG_analysis'\n",
    "data_dir = f'{top_path}/data'\n",
    "preproc_files = f'{data_dir}/raw/fmri_betas/{subj}_space-T1w_desc-*-fracridge-all-data.nii.gz'\n",
    "figure_path = f'{top_path}/reports/figures/{process}'\n",
    "out_path = f'{top_path}/data/interim/{process}'\n",
    "Path(figure_path).mkdir(parents=True, exist_ok=True)\n",
    "Path(out_path).mkdir(parents=True, exist_ok=True)"
   ]
  },
  {
   "cell_type": "code",
   "execution_count": 3,
   "metadata": {},
   "outputs": [],
   "source": [
    "test_videos = pd.read_csv(f'{data_dir}/raw/annotations/test.csv')\n",
    "train_videos = pd.read_csv(f'{data_dir}/raw/annotations/train.csv')\n",
    "df = pd.concat([test_videos, train_videos]).reset_index(drop=True).sort_values(by='video_name')\n",
    "sort_idx = df.reset_index()['index'].to_numpy()\n",
    "videos = df.video_name.to_numpy()\n",
    "\n",
    "feature_rdms = pd.read_csv(f'{data_dir}/interim/FeatureRDMs/feature_rdms.csv')"
   ]
  },
  {
   "cell_type": "code",
   "execution_count": 4,
   "metadata": {},
   "outputs": [],
   "source": [
    "rois = ['EVC', 'MT', 'EBA',\n",
    "        'LOC', 'FFA', 'PPA',\n",
    "        'pSTS', 'face-pSTS', 'aSTS']\n",
    "feature_order = ['alexnet', 'moten', 'indoor',\n",
    "                 'expanse', 'object_directedness', 'agent_distance',\n",
    "                 'facingness', 'joint_action', 'communication', \n",
    "                 'valence', 'arousal']"
   ]
  },
  {
   "cell_type": "markdown",
   "metadata": {},
   "source": [
    "## Pairwise decoding"
   ]
  },
  {
   "cell_type": "code",
   "execution_count": 9,
   "metadata": {},
   "outputs": [
    {
     "name": "stdout",
     "output_type": "stream",
     "text": [
      "/Users/emcmaho7/Dropbox/projects/SI_EEG/SIEEG_analysis/data/interim/fMRI_RSA/sub-01_pairwise-decoding.csv\n"
     ]
    }
   ],
   "source": [
    "if decoding:\n",
    "    n_groups = 5 \n",
    "    groups = np.concatenate([np.arange(n_groups), np.arange(n_groups)])\n",
    "    logo = LeaveOneGroupOut()\n",
    "    pipe = Pipeline([('scale', StandardScaler()), ('lr', LogisticRegression())])\n",
    "    out_name = f'{out_path}/{subj}_pairwise-decoding.csv'\n",
    "else:\n",
    "    out_name = f'{out_path}/{subj}_correlation-distance.csv'\n",
    "\n",
    "print(out_name)"
   ]
  },
  {
   "cell_type": "code",
   "execution_count": 12,
   "metadata": {},
   "outputs": [
    {
     "name": "stderr",
     "output_type": "stream",
     "text": [
      "ROIs:   0%|          | 0/9 [00:00<?, ?it/s]\n"
     ]
    },
    {
     "ename": "TypeError",
     "evalue": "pqdm() missing 2 required positional arguments: 'function' and 'n_jobs'",
     "output_type": "error",
     "traceback": [
      "\u001b[0;31m---------------------------------------------------------------------------\u001b[0m",
      "\u001b[0;31mTypeError\u001b[0m                                 Traceback (most recent call last)",
      "\u001b[1;32m/Users/emcmaho7/Dropbox/projects/SI_EEG/SIEEG_analysis/notebooks/fMRI_RSA.ipynb Cell 11\u001b[0m line \u001b[0;36m2\n\u001b[1;32m     <a href='vscode-notebook-cell:/Users/emcmaho7/Dropbox/projects/SI_EEG/SIEEG_analysis/notebooks/fMRI_RSA.ipynb#X13sZmlsZQ%3D%3D?line=20'>21</a>\u001b[0m betas_masked \u001b[39m=\u001b[39m betas[mask, \u001b[39m.\u001b[39m\u001b[39m.\u001b[39m\u001b[39m.\u001b[39m]\n\u001b[1;32m     <a href='vscode-notebook-cell:/Users/emcmaho7/Dropbox/projects/SI_EEG/SIEEG_analysis/notebooks/fMRI_RSA.ipynb#X13sZmlsZQ%3D%3D?line=21'>22</a>\u001b[0m \u001b[39mif\u001b[39;00m decoding:\n\u001b[1;32m     <a href='vscode-notebook-cell:/Users/emcmaho7/Dropbox/projects/SI_EEG/SIEEG_analysis/notebooks/fMRI_RSA.ipynb#X13sZmlsZQ%3D%3D?line=22'>23</a>\u001b[0m     result_for_t \u001b[39m=\u001b[39m Parallel(n_jobs\u001b[39m=\u001b[39m\u001b[39m4\u001b[39m)(\n\u001b[1;32m     <a href='vscode-notebook-cell:/Users/emcmaho7/Dropbox/projects/SI_EEG/SIEEG_analysis/notebooks/fMRI_RSA.ipynb#X13sZmlsZQ%3D%3D?line=23'>24</a>\u001b[0m         delayed(fit_and_predict)(betas_masked[:, video1, :]\u001b[39m.\u001b[39msqueeze()\u001b[39m.\u001b[39mT,\n\u001b[1;32m     <a href='vscode-notebook-cell:/Users/emcmaho7/Dropbox/projects/SI_EEG/SIEEG_analysis/notebooks/fMRI_RSA.ipynb#X13sZmlsZQ%3D%3D?line=24'>25</a>\u001b[0m                                 betas_masked[:, video2, :]\u001b[39m.\u001b[39msqueeze()\u001b[39m.\u001b[39mT,\n\u001b[0;32m---> <a href='vscode-notebook-cell:/Users/emcmaho7/Dropbox/projects/SI_EEG/SIEEG_analysis/notebooks/fMRI_RSA.ipynb#X13sZmlsZQ%3D%3D?line=25'>26</a>\u001b[0m                                 n_groups) \u001b[39mfor\u001b[39;00m video1, video2 \u001b[39min\u001b[39;00m pqdm(nCk, total\u001b[39m=\u001b[39;49m\u001b[39mlen\u001b[39;49m(nCk), desc\u001b[39m=\u001b[39;49m\u001b[39m'\u001b[39;49m\u001b[39mPairwise decoding\u001b[39;49m\u001b[39m'\u001b[39;49m)\n\u001b[1;32m     <a href='vscode-notebook-cell:/Users/emcmaho7/Dropbox/projects/SI_EEG/SIEEG_analysis/notebooks/fMRI_RSA.ipynb#X13sZmlsZQ%3D%3D?line=26'>27</a>\u001b[0m     )\n\u001b[1;32m     <a href='vscode-notebook-cell:/Users/emcmaho7/Dropbox/projects/SI_EEG/SIEEG_analysis/notebooks/fMRI_RSA.ipynb#X13sZmlsZQ%3D%3D?line=27'>28</a>\u001b[0m     \u001b[39mfor\u001b[39;00m accuracy, (video1, video2) \u001b[39min\u001b[39;00m \u001b[39mzip\u001b[39m(result_for_t, nCk):\n\u001b[1;32m     <a href='vscode-notebook-cell:/Users/emcmaho7/Dropbox/projects/SI_EEG/SIEEG_analysis/notebooks/fMRI_RSA.ipynb#X13sZmlsZQ%3D%3D?line=28'>29</a>\u001b[0m         results\u001b[39m.\u001b[39mappend([roi, videos[video1], videos[video2], accuracy])\n",
      "\u001b[0;31mTypeError\u001b[0m: pqdm() missing 2 required positional arguments: 'function' and 'n_jobs'"
     ]
    }
   ],
   "source": [
    "if calculate_rdm:\n",
    "    betas = []\n",
    "    for file in sorted(glob(preproc_files)):\n",
    "        beta_img = nib.load(file)\n",
    "        arr = beta_img.get_fdata().reshape((-1, beta_img.shape[-2], beta_img.shape[-1]))\n",
    "        if arr.shape[-1] > 10:\n",
    "            arr = arr.reshape(arr.shape[0], arr.shape[1], arr.shape[2] // 2, 2).mean(axis=3)\n",
    "        betas.append(arr)\n",
    "    betas = np.hstack(betas)[:, sort_idx,:]\n",
    "\n",
    "    reliability_mask = np.load(f'{data_dir}/raw/reliability_mask/{subj}_space-T1w_desc-test-fracridge_reliability-mask.npy')\n",
    "\n",
    "    with warnings.catch_warnings():\n",
    "        warnings.filterwarnings(\"ignore\", message=\"Mean of empty slice\")\n",
    "        \n",
    "        nCk = list(combinations(range(betas.shape[1]), 2))\n",
    "        results = []\n",
    "        for roi in tqdm(rois, desc='ROIs'):\n",
    "            files = glob(f'{data_dir}/raw/localizers/{subj}/{subj}_task-*_space-T1w_roi-{roi}_hemi-*_roi-mask.nii.gz')\n",
    "            mask = gen_mask(files, reliability_mask)\n",
    "            betas_masked = betas[mask, ...]\n",
    "            if decoding:\n",
    "                result_for_t = Parallel(n_jobs=4)(\n",
    "                    delayed(fit_and_predict)(betas_masked[:, video1, :].squeeze().T,\n",
    "                                            betas_masked[:, video2, :].squeeze().T,\n",
    "                                            n_groups) for video1, video2 in tqdm(nCk, total=len(nCk), desc='Pairwise decoding')\n",
    "                )\n",
    "                for accuracy, (video1, video2) in zip(result_for_t, nCk):\n",
    "                    results.append([roi, videos[video1], videos[video2], accuracy])\n",
    "            else:\n",
    "                rdm = pdist(np.nanmean(betas[mask, ...], axis=-1).T, metric='correlation')\n",
    "                for i, (video1, video2) in enumerate(nCk):\n",
    "                    results.append([roi, videos[video1], videos[video2],\n",
    "                                    rdm[i]])\n",
    "    results = pd.DataFrame(results, columns=['roi', 'video1', 'video2', 'distance'])\n",
    "    results.to_csv(out_name, index=False)\n",
    "else:\n",
    "    results = pd.read_csv(out_name)"
   ]
  },
  {
   "cell_type": "markdown",
   "metadata": {},
   "source": [
    "## Correlate Feature and Neural RDMs"
   ]
  },
  {
   "cell_type": "code",
   "execution_count": null,
   "metadata": {},
   "outputs": [],
   "source": [
    "feature_group = feature_rdms.groupby('feature')\n",
    "neural_group = results.groupby('roi')\n",
    "rsa = []\n",
    "for feature, feature_rdm in tqdm(feature_group):\n",
    "    for time, time_rdm in neural_group:\n",
    "        rho, _ = spearmanr(feature_rdm.distance, time_rdm.distance)\n",
    "        rsa.append([feature, time, rho])\n",
    "rsa = pd.DataFrame(rsa, columns=['feature', 'roi', 'Spearman rho'])\n",
    "cat_type = pd.CategoricalDtype(categories=feature_order, ordered=True)\n",
    "rsa['feature'] = rsa.feature.astype(cat_type)\n",
    "cat_type = pd.CategoricalDtype(categories=rois, ordered=True)\n",
    "rsa['roi'] = rsa.roi.astype(cat_type)\n",
    "if decoding: \n",
    "    rsa.to_csv(f'{out_path}/{subj}_rsa-decoding.csv')\n",
    "else:\n",
    "    rsa.to_csv(f'{out_path}/{subj}_rsa-correlation.csv')\n",
    "rsa.head()"
   ]
  },
  {
   "cell_type": "code",
   "execution_count": null,
   "metadata": {},
   "outputs": [],
   "source": [
    "def feature2color(key=None):\n",
    "    d = dict()\n",
    "    d['alexnet'] = np.array([0.5, 0.5, 0.5, 1])\n",
    "    d['moten'] = np.array([0.5, 0.5, 0.5, 1])\n",
    "    d['indoor'] = np.array([0.95703125, 0.86328125, 0.25, 0.8])\n",
    "    d['expanse'] = np.array([0.95703125, 0.86328125, 0.25, 0.8])\n",
    "    d['object_directedness'] = np.array([0.95703125, 0.86328125, 0.25, 0.8])\n",
    "    d['agent_distance'] = np.array([0.51953125, 0.34375, 0.953125, 0.8])\n",
    "    d['facingness'] = np.array([0.51953125, 0.34375, 0.953125, 0.8])\n",
    "    d['joint_action'] = np.array([0.44921875, 0.8203125, 0.87109375, 0.8])\n",
    "    d['communication'] = np.array([0.44921875, 0.8203125, 0.87109375, 0.8])\n",
    "    d['valence'] = np.array([0.8515625, 0.32421875, 0.35546875, 0.8])\n",
    "    d['arousal'] = np.array([0.8515625, 0.32421875, 0.35546875, 0.8])\n",
    "    if key is not None:\n",
    "        return d[key]\n",
    "    else:\n",
    "        return d"
   ]
  },
  {
   "cell_type": "code",
   "execution_count": null,
   "metadata": {},
   "outputs": [],
   "source": [
    "feature_group = rsa.groupby('roi')\n",
    "_, axes = plt.subplots(3, 3, sharey=True, sharex=True)\n",
    "axes = axes.flatten()\n",
    "ymin, ymax = rsa['Spearman rho'].min(), rsa['Spearman rho'].max()\n",
    "for ax, (roi, feature_df) in zip(axes, feature_group):\n",
    "    sns.barplot(x='feature', y='Spearman rho',\n",
    "                 data=feature_df, ax=ax, color='gray')\n",
    "    if roi in ['EVC', 'LOC', 'pSTS']:\n",
    "        ax.set_ylabel('Spearman rho')\n",
    "    else:\n",
    "        ax.set_ylabel('')\n",
    "        \n",
    "    if roi in ['pSTS', 'face-pSTS', 'aSTS']:\n",
    "        ax.set_xlabel('Feature')\n",
    "        ax.set_xticklabels(feature_order, rotation=90, ha='center')\n",
    "    else:\n",
    "        ax.set_xlabel('')\n",
    "        ax.tick_params(axis='x', which='both', length=0)\n",
    "\n",
    "    for bar, feature in zip(ax.patches, feature_order):\n",
    "        color = feature2color(feature)\n",
    "        bar.set_color(color)\n",
    "        \n",
    "    ax.set_ylim([ymin, ymax])\n",
    "    ax.hlines(y=0, xmin=ax.get_xlim()[0], xmax=ax.get_xlim()[1],\n",
    "        colors='gray', linestyles='solid', zorder=1)\n",
    "    ax.spines['top'].set_visible(False)\n",
    "    ax.spines['right'].set_visible(False)\n",
    "    ax.spines['bottom'].set_visible(False)\n",
    "    ax.set_title(roi)\n",
    "plt.tight_layout()\n",
    "if decoding: \n",
    "    plt.savefig(f'{figure_path}/{subj}_rsa-decoding.png')\n",
    "else:\n",
    "    plt.savefig(f'{figure_path}/{subj}_rsa-correlation.png')"
   ]
  },
  {
   "cell_type": "code",
   "execution_count": null,
   "metadata": {},
   "outputs": [],
   "source": []
  }
 ],
 "metadata": {
  "kernelspec": {
   "display_name": "nibabel",
   "language": "python",
   "name": "python3"
  },
  "language_info": {
   "codemirror_mode": {
    "name": "ipython",
    "version": 3
   },
   "file_extension": ".py",
   "mimetype": "text/x-python",
   "name": "python",
   "nbconvert_exporter": "python",
   "pygments_lexer": "ipython3",
   "version": "3.10.11"
  }
 },
 "nbformat": 4,
 "nbformat_minor": 2
}
