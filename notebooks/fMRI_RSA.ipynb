{
 "cells": [
  {
   "cell_type": "code",
   "execution_count": 1,
   "metadata": {},
   "outputs": [],
   "source": [
    "from glob import glob\n",
    "import numpy as np\n",
    "import pandas as pd\n",
    "import matplotlib.pyplot as plt\n",
    "from pathlib import Path\n",
    "from scipy.spatial.distance import pdist\n",
    "from scipy.stats import spearmanr\n",
    "from tqdm import tqdm\n",
    "import seaborn as sns\n",
    "from itertools import combinations\n",
    "from src.tools import corr2d\n",
    "import nibabel as nib\n",
    "import warnings\n",
    "\n",
    "from sklearn.linear_model import LogisticRegression\n",
    "from sklearn.pipeline import Pipeline\n",
    "from sklearn.preprocessing import StandardScaler\n",
    "from sklearn.model_selection import LeaveOneGroupOut"
   ]
  },
  {
   "cell_type": "code",
   "execution_count": 2,
   "metadata": {},
   "outputs": [],
   "source": [
    "subj = 'sub-03'\n",
    "stimulus_set = 'test'\n",
    "process = 'fMRI_RSA'\n",
    "decoding = False\n",
    "\n",
    "top_path = '/Users/emcmaho7/Dropbox/projects/SI_EEG/SIEEG_analysis'\n",
    "annotation_path = f'{top_path}/data/raw/annotations'\n",
    "preproc_path = f'{top_path}/data/raw/fMRI_betas/'\n",
    "preproc_file = f'{preproc_path}/{subj}_space-T1w_desc-{stimulus_set}-fracridge-all-data.nii.gz'\n",
    "roi_path = f'{top_path}/data/raw/localizers/{subj}'\n",
    "figure_path = f'{top_path}/reports/figures/{process}'\n",
    "out_path = f'{top_path}/data/interim/{process}'\n",
    "Path(figure_path).mkdir(parents=True, exist_ok=True)\n",
    "Path(out_path).mkdir(parents=True, exist_ok=True)"
   ]
  },
  {
   "cell_type": "code",
   "execution_count": 3,
   "metadata": {},
   "outputs": [],
   "source": [
    "video_df = pd.read_csv(f'{annotation_path}/{stimulus_set}.csv')\n",
    "videos = video_df.sort_values('video_name').video_name.to_numpy()"
   ]
  },
  {
   "cell_type": "code",
   "execution_count": 4,
   "metadata": {},
   "outputs": [],
   "source": [
    "rois = ['EVC', 'MT', 'EBA',\n",
    "        'LOC', 'FFA', 'PPA',\n",
    "        'pSTS', 'face-pSTS', 'aSTS']\n",
    "feature_order = ['indoor', 'expanse', 'object_directedness',\n",
    "                 'agent_distance', 'facingness', 'joint_action',\n",
    "                 'communication', 'valence', 'arousal']"
   ]
  },
  {
   "cell_type": "code",
   "execution_count": 5,
   "metadata": {},
   "outputs": [
    {
     "name": "stdout",
     "output_type": "stream",
     "text": [
      "/Users/emcmaho7/Dropbox/projects/SI_EEG/SIEEG_analysis/data/raw/fMRI_betas//sub-03_space-T1w_desc-test-fracridge-all-data.nii.gz\n",
      "(71, 93, 72, 50, 20)\n",
      "(475416, 50, 20)\n"
     ]
    }
   ],
   "source": [
    "print(preproc_file)\n",
    "betas = nib.load(preproc_file)\n",
    "print(betas.shape)\n",
    "betas_flat = np.array(betas.dataobj).reshape((-1, betas.shape[-2], betas.shape[-1]))\n",
    "print(betas_flat.shape)"
   ]
  },
  {
   "cell_type": "code",
   "execution_count": 6,
   "metadata": {},
   "outputs": [
    {
     "name": "stderr",
     "output_type": "stream",
     "text": [
      "/Users/emcmaho7/Dropbox/projects/SI_EEG/SIEEG_analysis/src/tools.py:36: RuntimeWarning: Mean of empty slice\n",
      "  x_m = x - np.nanmean(x, axis=0)\n",
      "/Users/emcmaho7/Dropbox/projects/SI_EEG/SIEEG_analysis/src/tools.py:37: RuntimeWarning: Mean of empty slice\n",
      "  y_m = y - np.nanmean(y, axis=0)\n"
     ]
    },
    {
     "name": "stdout",
     "output_type": "stream",
     "text": [
      "45271\n"
     ]
    }
   ],
   "source": [
    "threshold = 0.235\n",
    "even = np.mean(betas_flat[..., 1::2], axis=-1).T\n",
    "odd = np.mean(betas_flat[..., ::2], axis=-1).T\n",
    "r_map = corr2d(even, odd)\n",
    "r_map[r_map < 0] = 0\n",
    "reliability_mask = (r_map >= threshold) & (~np.isnan(r_map))\n",
    "print(np.sum(reliability_mask))"
   ]
  },
  {
   "cell_type": "markdown",
   "metadata": {},
   "source": [
    "## Pairwise decoding"
   ]
  },
  {
   "cell_type": "code",
   "execution_count": 7,
   "metadata": {},
   "outputs": [],
   "source": [
    "def divide_into_groups(arr, n_groups=5):\n",
    "    n = len(arr)\n",
    "    \n",
    "    # Calculate the size of each group\n",
    "    group_size = n // n_groups\n",
    "    remainder = n % n_groups\n",
    "    \n",
    "    groups = []\n",
    "    start_idx = 0\n",
    "    \n",
    "    for i in range(n_groups):\n",
    "        end_idx = start_idx + group_size + (i < remainder)  # Add 1 if this group takes an extra element\n",
    "        group = arr[start_idx:end_idx]\n",
    "        groups.append(group)\n",
    "        start_idx = end_idx  # Update the starting index for the next group\n",
    "        \n",
    "    return groups"
   ]
  },
  {
   "cell_type": "code",
   "execution_count": 8,
   "metadata": {},
   "outputs": [],
   "source": [
    "def generate_pseudo(arr, n_groups=5):\n",
    "    inds = np.arange(len(arr))\n",
    "    np.random.shuffle(inds)\n",
    "    groups = divide_into_groups(inds, n_groups)\n",
    "    pseudo_arr = []\n",
    "    for group in groups:\n",
    "        pseudo_arr.append(np.nanmean(arr[group], axis=0))\n",
    "    return np.array(pseudo_arr)"
   ]
  },
  {
   "cell_type": "code",
   "execution_count": 9,
   "metadata": {},
   "outputs": [],
   "source": [
    "def gen_mask(files, rel_mask):\n",
    "    roi = []\n",
    "    for f in files:\n",
    "        roi_hemi = nib.load(f).get_fdata().astype('bool')\n",
    "        roi.append(roi_hemi)\n",
    "    roi_mask = np.sum(roi, axis=0).flatten()\n",
    "    return np.all(np.vstack([rel_mask, roi_mask]), axis=0)"
   ]
  },
  {
   "cell_type": "code",
   "execution_count": 10,
   "metadata": {},
   "outputs": [
    {
     "name": "stdout",
     "output_type": "stream",
     "text": [
      "/Users/emcmaho7/Dropbox/projects/SI_EEG/SIEEG_analysis/data/interim/fMRI_RSA/sub-03_set-test_correlation-distance.csv\n"
     ]
    }
   ],
   "source": [
    "if decoding:\n",
    "    n_groups = 5 \n",
    "    groups = np.concatenate([np.arange(n_groups), np.arange(n_groups)])\n",
    "    logo = LeaveOneGroupOut()\n",
    "    pipe = Pipeline([('scale', StandardScaler()), ('lr', LogisticRegression())])\n",
    "    out_name = f'{out_path}/{subj}_set-{stimulus_set}_pairwise-decoding.csv'\n",
    "else:\n",
    "    out_name = f'{out_path}/{subj}_set-{stimulus_set}_correlation-distance.csv'\n",
    "\n",
    "print(out_name)"
   ]
  },
  {
   "cell_type": "code",
   "execution_count": 11,
   "metadata": {},
   "outputs": [
    {
     "name": "stderr",
     "output_type": "stream",
     "text": [
      "100%|██████████| 9/9 [00:00<00:00, 28.58it/s]\n"
     ]
    }
   ],
   "source": [
    "with warnings.catch_warnings():\n",
    "    warnings.filterwarnings(\"ignore\", message=\"Mean of empty slice\")\n",
    "    \n",
    "    nCk = list(combinations(range(betas_flat.shape[1]), 2))\n",
    "    results = []\n",
    "    for roi in tqdm(rois):\n",
    "        files = glob(f'{roi_path}/{subj}_task-*_space-T1w_roi-{roi}_hemi-*_roi-mask.nii.gz')\n",
    "        mask = gen_mask(files, reliability_mask)\n",
    "        betas_masked = betas_flat[mask, ...]\n",
    "        if decoding:\n",
    "            for video1, video2 in nCk:\n",
    "                arr1 = betas_masked[:, video1, :].squeeze().T\n",
    "                arr2 = betas_masked[:, video2, :].squeeze().T\n",
    "                X = np.vstack([generate_pseudo(arr1),\n",
    "                                generate_pseudo(arr2)])\n",
    "                drop_inds = np.isclose(np.sum(np.isnan(X), axis=0), 0)\n",
    "                X = X[:, drop_inds]\n",
    "                y = np.hstack([np.zeros((n_groups)), np.ones((n_groups))]).astype('int')\n",
    "                y_pred = []\n",
    "                y_true = []\n",
    "                for i, (train_index, test_index) in enumerate(logo.split(X, y, groups=groups)):\n",
    "                    pipe.fit(X[train_index], y[train_index])\n",
    "                    y_pred.append(pipe.predict(X[test_index]))\n",
    "                    y_true.append(y[test_index])\n",
    "                results.append([roi, videos[video1], videos[video2],\n",
    "                                np.mean(np.array(y_pred) == np.array(y_true))])\n",
    "        else:\n",
    "            rdm = pdist(np.nanmean(betas_flat[mask, ...], axis=-1).T, metric='correlation')\n",
    "            for i, (video1, video2) in enumerate(nCk):\n",
    "                results.append([roi, videos[video1], videos[video2],\n",
    "                                rdm[i]])\n",
    "results = pd.DataFrame(results, columns=['roi', 'video1', 'video2', 'distance'])\n",
    "results.to_csv(out_name, index=False)"
   ]
  },
  {
   "cell_type": "markdown",
   "metadata": {},
   "source": [
    "## Feature RDMs"
   ]
  },
  {
   "cell_type": "markdown",
   "metadata": {},
   "source": [
    "Load the feature annotations and make the RDMs. Care needs to be paid to ensure that that the order of the vidoes across the two RDMs is consistent. "
   ]
  },
  {
   "cell_type": "code",
   "execution_count": 12,
   "metadata": {},
   "outputs": [
    {
     "data": {
      "text/html": [
       "<div>\n",
       "<style scoped>\n",
       "    .dataframe tbody tr th:only-of-type {\n",
       "        vertical-align: middle;\n",
       "    }\n",
       "\n",
       "    .dataframe tbody tr th {\n",
       "        vertical-align: top;\n",
       "    }\n",
       "\n",
       "    .dataframe thead th {\n",
       "        text-align: right;\n",
       "    }\n",
       "</style>\n",
       "<table border=\"1\" class=\"dataframe\">\n",
       "  <thead>\n",
       "    <tr style=\"text-align: right;\">\n",
       "      <th></th>\n",
       "      <th>indoor</th>\n",
       "      <th>expanse</th>\n",
       "      <th>object_directedness</th>\n",
       "      <th>agent_distance</th>\n",
       "      <th>facingness</th>\n",
       "      <th>joint_action</th>\n",
       "      <th>communication</th>\n",
       "      <th>valence</th>\n",
       "      <th>arousal</th>\n",
       "    </tr>\n",
       "    <tr>\n",
       "      <th>video_name</th>\n",
       "      <th></th>\n",
       "      <th></th>\n",
       "      <th></th>\n",
       "      <th></th>\n",
       "      <th></th>\n",
       "      <th></th>\n",
       "      <th></th>\n",
       "      <th></th>\n",
       "      <th></th>\n",
       "    </tr>\n",
       "  </thead>\n",
       "  <tbody>\n",
       "    <tr>\n",
       "      <th>3PJaYWt0cws_5.mp4</th>\n",
       "      <td>0</td>\n",
       "      <td>0.625000</td>\n",
       "      <td>1.000000</td>\n",
       "      <td>0.725000</td>\n",
       "      <td>0.340909</td>\n",
       "      <td>0.022727</td>\n",
       "      <td>0.1500</td>\n",
       "      <td>0.600</td>\n",
       "      <td>0.400000</td>\n",
       "    </tr>\n",
       "    <tr>\n",
       "      <th>9hlyu-wDkg4_4.mp4</th>\n",
       "      <td>0</td>\n",
       "      <td>0.275000</td>\n",
       "      <td>0.025000</td>\n",
       "      <td>0.150000</td>\n",
       "      <td>0.875000</td>\n",
       "      <td>0.425000</td>\n",
       "      <td>0.9250</td>\n",
       "      <td>0.500</td>\n",
       "      <td>0.025000</td>\n",
       "    </tr>\n",
       "    <tr>\n",
       "      <th>flickr-0-6-1-2-0-7-8-4-4606120784_26.mp4</th>\n",
       "      <td>1</td>\n",
       "      <td>0.475000</td>\n",
       "      <td>0.977273</td>\n",
       "      <td>0.475000</td>\n",
       "      <td>0.150000</td>\n",
       "      <td>0.825000</td>\n",
       "      <td>0.7000</td>\n",
       "      <td>0.550</td>\n",
       "      <td>0.363636</td>\n",
       "    </tr>\n",
       "    <tr>\n",
       "      <th>flickr-1-1-2-0-2-4-6-6-7211202466_8.mp4</th>\n",
       "      <td>0</td>\n",
       "      <td>0.550000</td>\n",
       "      <td>0.550000</td>\n",
       "      <td>0.568182</td>\n",
       "      <td>0.200000</td>\n",
       "      <td>0.416667</td>\n",
       "      <td>0.6875</td>\n",
       "      <td>0.775</td>\n",
       "      <td>0.500000</td>\n",
       "    </tr>\n",
       "    <tr>\n",
       "      <th>flickr-2-0-5-7-0-2-3-3-4720570233_26.mp4</th>\n",
       "      <td>1</td>\n",
       "      <td>0.229167</td>\n",
       "      <td>0.975000</td>\n",
       "      <td>0.300000</td>\n",
       "      <td>0.200000</td>\n",
       "      <td>0.431818</td>\n",
       "      <td>0.7000</td>\n",
       "      <td>0.600</td>\n",
       "      <td>0.375000</td>\n",
       "    </tr>\n",
       "  </tbody>\n",
       "</table>\n",
       "</div>"
      ],
      "text/plain": [
       "                                          indoor   expanse  \\\n",
       "video_name                                                   \n",
       "3PJaYWt0cws_5.mp4                              0  0.625000   \n",
       "9hlyu-wDkg4_4.mp4                              0  0.275000   \n",
       "flickr-0-6-1-2-0-7-8-4-4606120784_26.mp4       1  0.475000   \n",
       "flickr-1-1-2-0-2-4-6-6-7211202466_8.mp4        0  0.550000   \n",
       "flickr-2-0-5-7-0-2-3-3-4720570233_26.mp4       1  0.229167   \n",
       "\n",
       "                                          object_directedness  agent_distance  \\\n",
       "video_name                                                                      \n",
       "3PJaYWt0cws_5.mp4                                    1.000000        0.725000   \n",
       "9hlyu-wDkg4_4.mp4                                    0.025000        0.150000   \n",
       "flickr-0-6-1-2-0-7-8-4-4606120784_26.mp4             0.977273        0.475000   \n",
       "flickr-1-1-2-0-2-4-6-6-7211202466_8.mp4              0.550000        0.568182   \n",
       "flickr-2-0-5-7-0-2-3-3-4720570233_26.mp4             0.975000        0.300000   \n",
       "\n",
       "                                          facingness  joint_action  \\\n",
       "video_name                                                           \n",
       "3PJaYWt0cws_5.mp4                           0.340909      0.022727   \n",
       "9hlyu-wDkg4_4.mp4                           0.875000      0.425000   \n",
       "flickr-0-6-1-2-0-7-8-4-4606120784_26.mp4    0.150000      0.825000   \n",
       "flickr-1-1-2-0-2-4-6-6-7211202466_8.mp4     0.200000      0.416667   \n",
       "flickr-2-0-5-7-0-2-3-3-4720570233_26.mp4    0.200000      0.431818   \n",
       "\n",
       "                                          communication  valence   arousal  \n",
       "video_name                                                                  \n",
       "3PJaYWt0cws_5.mp4                                0.1500    0.600  0.400000  \n",
       "9hlyu-wDkg4_4.mp4                                0.9250    0.500  0.025000  \n",
       "flickr-0-6-1-2-0-7-8-4-4606120784_26.mp4         0.7000    0.550  0.363636  \n",
       "flickr-1-1-2-0-2-4-6-6-7211202466_8.mp4          0.6875    0.775  0.500000  \n",
       "flickr-2-0-5-7-0-2-3-3-4720570233_26.mp4         0.7000    0.600  0.375000  "
      ]
     },
     "execution_count": 12,
     "metadata": {},
     "output_type": "execute_result"
    }
   ],
   "source": [
    "features_to_exclude = ['dominance', 'cooperation', 'intimacy']\n",
    "df = pd.read_csv(f'{annotation_path}/annotations.csv')\n",
    "df = df.merge(video_df, on='video_name').set_index('video_name')\n",
    "df = df.drop(columns=features_to_exclude)\n",
    "rename = {col: col.replace(' ', '_') for col in df.columns}\n",
    "rename['transitivity'] = 'object_directedness'\n",
    "df.rename(columns=rename, inplace=True)\n",
    "df.sort_index(inplace=True)\n",
    "df.head()"
   ]
  },
  {
   "cell_type": "code",
   "execution_count": 13,
   "metadata": {},
   "outputs": [
    {
     "name": "stderr",
     "output_type": "stream",
     "text": [
      "100%|██████████| 9/9 [00:00<00:00, 1542.65it/s]\n"
     ]
    },
    {
     "data": {
      "text/html": [
       "<div>\n",
       "<style scoped>\n",
       "    .dataframe tbody tr th:only-of-type {\n",
       "        vertical-align: middle;\n",
       "    }\n",
       "\n",
       "    .dataframe tbody tr th {\n",
       "        vertical-align: top;\n",
       "    }\n",
       "\n",
       "    .dataframe thead th {\n",
       "        text-align: right;\n",
       "    }\n",
       "</style>\n",
       "<table border=\"1\" class=\"dataframe\">\n",
       "  <thead>\n",
       "    <tr style=\"text-align: right;\">\n",
       "      <th></th>\n",
       "      <th>video1</th>\n",
       "      <th>video2</th>\n",
       "      <th>feature</th>\n",
       "      <th>distance</th>\n",
       "    </tr>\n",
       "  </thead>\n",
       "  <tbody>\n",
       "    <tr>\n",
       "      <th>0</th>\n",
       "      <td>3PJaYWt0cws_5.mp4</td>\n",
       "      <td>9hlyu-wDkg4_4.mp4</td>\n",
       "      <td>indoor</td>\n",
       "      <td>0.0</td>\n",
       "    </tr>\n",
       "    <tr>\n",
       "      <th>1</th>\n",
       "      <td>3PJaYWt0cws_5.mp4</td>\n",
       "      <td>flickr-0-6-1-2-0-7-8-4-4606120784_26.mp4</td>\n",
       "      <td>indoor</td>\n",
       "      <td>1.0</td>\n",
       "    </tr>\n",
       "    <tr>\n",
       "      <th>2</th>\n",
       "      <td>3PJaYWt0cws_5.mp4</td>\n",
       "      <td>flickr-1-1-2-0-2-4-6-6-7211202466_8.mp4</td>\n",
       "      <td>indoor</td>\n",
       "      <td>0.0</td>\n",
       "    </tr>\n",
       "    <tr>\n",
       "      <th>3</th>\n",
       "      <td>3PJaYWt0cws_5.mp4</td>\n",
       "      <td>flickr-2-0-5-7-0-2-3-3-4720570233_26.mp4</td>\n",
       "      <td>indoor</td>\n",
       "      <td>1.0</td>\n",
       "    </tr>\n",
       "    <tr>\n",
       "      <th>4</th>\n",
       "      <td>3PJaYWt0cws_5.mp4</td>\n",
       "      <td>flickr-2-1-6-6-7-1-1-2-16621667112_15.mp4</td>\n",
       "      <td>indoor</td>\n",
       "      <td>1.0</td>\n",
       "    </tr>\n",
       "  </tbody>\n",
       "</table>\n",
       "</div>"
      ],
      "text/plain": [
       "              video1                                     video2 feature  \\\n",
       "0  3PJaYWt0cws_5.mp4                          9hlyu-wDkg4_4.mp4  indoor   \n",
       "1  3PJaYWt0cws_5.mp4   flickr-0-6-1-2-0-7-8-4-4606120784_26.mp4  indoor   \n",
       "2  3PJaYWt0cws_5.mp4    flickr-1-1-2-0-2-4-6-6-7211202466_8.mp4  indoor   \n",
       "3  3PJaYWt0cws_5.mp4   flickr-2-0-5-7-0-2-3-3-4720570233_26.mp4  indoor   \n",
       "4  3PJaYWt0cws_5.mp4  flickr-2-1-6-6-7-1-1-2-16621667112_15.mp4  indoor   \n",
       "\n",
       "   distance  \n",
       "0       0.0  \n",
       "1       1.0  \n",
       "2       0.0  \n",
       "3       1.0  \n",
       "4       1.0  "
      ]
     },
     "execution_count": 13,
     "metadata": {},
     "output_type": "execute_result"
    }
   ],
   "source": [
    "feature_rdms = []\n",
    "videos_nCk = list(combinations(videos, 2))\n",
    "for col in tqdm(df.columns):\n",
    "    cur_df = np.expand_dims(df[col].to_numpy(), axis=1)\n",
    "    distance_matrix = pdist(cur_df, metric='euclidean')\n",
    "    for idx, (video1, video2) in enumerate(videos_nCk):\n",
    "        feature_rdms.append([video1, video2, col, distance_matrix[idx]])\n",
    "feature_rdms = pd.DataFrame(feature_rdms, columns=['video1', 'video2', 'feature', 'distance'])\n",
    "feature_rdms.head()\n",
    "    "
   ]
  },
  {
   "cell_type": "markdown",
   "metadata": {},
   "source": [
    "## Correlate Feature and Neural RDMs"
   ]
  },
  {
   "cell_type": "code",
   "execution_count": 14,
   "metadata": {},
   "outputs": [
    {
     "name": "stderr",
     "output_type": "stream",
     "text": [
      "100%|██████████| 9/9 [00:00<00:00, 134.55it/s]\n"
     ]
    },
    {
     "data": {
      "text/html": [
       "<div>\n",
       "<style scoped>\n",
       "    .dataframe tbody tr th:only-of-type {\n",
       "        vertical-align: middle;\n",
       "    }\n",
       "\n",
       "    .dataframe tbody tr th {\n",
       "        vertical-align: top;\n",
       "    }\n",
       "\n",
       "    .dataframe thead th {\n",
       "        text-align: right;\n",
       "    }\n",
       "</style>\n",
       "<table border=\"1\" class=\"dataframe\">\n",
       "  <thead>\n",
       "    <tr style=\"text-align: right;\">\n",
       "      <th></th>\n",
       "      <th>feature</th>\n",
       "      <th>roi</th>\n",
       "      <th>Spearman rho</th>\n",
       "    </tr>\n",
       "  </thead>\n",
       "  <tbody>\n",
       "    <tr>\n",
       "      <th>0</th>\n",
       "      <td>agent_distance</td>\n",
       "      <td>EBA</td>\n",
       "      <td>0.079723</td>\n",
       "    </tr>\n",
       "    <tr>\n",
       "      <th>1</th>\n",
       "      <td>agent_distance</td>\n",
       "      <td>EVC</td>\n",
       "      <td>0.068549</td>\n",
       "    </tr>\n",
       "    <tr>\n",
       "      <th>2</th>\n",
       "      <td>agent_distance</td>\n",
       "      <td>FFA</td>\n",
       "      <td>0.245828</td>\n",
       "    </tr>\n",
       "    <tr>\n",
       "      <th>3</th>\n",
       "      <td>agent_distance</td>\n",
       "      <td>LOC</td>\n",
       "      <td>0.161629</td>\n",
       "    </tr>\n",
       "    <tr>\n",
       "      <th>4</th>\n",
       "      <td>agent_distance</td>\n",
       "      <td>MT</td>\n",
       "      <td>0.040612</td>\n",
       "    </tr>\n",
       "  </tbody>\n",
       "</table>\n",
       "</div>"
      ],
      "text/plain": [
       "          feature  roi  Spearman rho\n",
       "0  agent_distance  EBA      0.079723\n",
       "1  agent_distance  EVC      0.068549\n",
       "2  agent_distance  FFA      0.245828\n",
       "3  agent_distance  LOC      0.161629\n",
       "4  agent_distance   MT      0.040612"
      ]
     },
     "execution_count": 14,
     "metadata": {},
     "output_type": "execute_result"
    }
   ],
   "source": [
    "feature_group = feature_rdms.groupby('feature')\n",
    "neural_group = results.groupby('roi')\n",
    "rsa = []\n",
    "for feature, feature_rdm in tqdm(feature_group):\n",
    "    for time, time_rdm in neural_group:\n",
    "        rho, _ = spearmanr(feature_rdm.distance, time_rdm.distance)\n",
    "        rsa.append([feature, time, rho])\n",
    "rsa = pd.DataFrame(rsa, columns=['feature', 'roi', 'Spearman rho'])\n",
    "cat_type = pd.CategoricalDtype(categories=feature_order, ordered=True)\n",
    "rsa['feature'] = rsa.feature.astype(cat_type)\n",
    "cat_type = pd.CategoricalDtype(categories=rois, ordered=True)\n",
    "rsa['roi'] = rsa.roi.astype(cat_type)\n",
    "rsa.head()"
   ]
  },
  {
   "cell_type": "code",
   "execution_count": 15,
   "metadata": {},
   "outputs": [],
   "source": [
    "def feature2color(key=None):\n",
    "    d = dict()\n",
    "    d['indoor'] = np.array([0.95703125, 0.86328125, 0.25, 0.8])\n",
    "    d['expanse'] = np.array([0.95703125, 0.86328125, 0.25, 0.8])\n",
    "    d['object_directedness'] = np.array([0.95703125, 0.86328125, 0.25, 0.8])\n",
    "    d['agent_distance'] = np.array([0.51953125, 0.34375, 0.953125, 0.8])\n",
    "    d['facingness'] = np.array([0.51953125, 0.34375, 0.953125, 0.8])\n",
    "    d['joint_action'] = np.array([0.44921875, 0.8203125, 0.87109375, 0.8])\n",
    "    d['communication'] = np.array([0.44921875, 0.8203125, 0.87109375, 0.8])\n",
    "    d['valence'] = np.array([0.8515625, 0.32421875, 0.35546875, 0.8])\n",
    "    d['arousal'] = np.array([0.8515625, 0.32421875, 0.35546875, 0.8])\n",
    "    if key is not None:\n",
    "        return d[key]\n",
    "    else:\n",
    "        return d"
   ]
  },
  {
   "cell_type": "code",
   "execution_count": 16,
   "metadata": {},
   "outputs": [
    {
     "data": {
      "image/png": "[encoded data removed]",
      "text/plain": [
       "<Figure size 640x480 with 9 Axes>"
      ]
     },
     "metadata": {},
     "output_type": "display_data"
    }
   ],
   "source": [
    "feature_group = rsa.groupby('roi')\n",
    "_, axes = plt.subplots(3, 3, sharey=True, sharex=True)\n",
    "axes = axes.flatten()\n",
    "ymin, ymax = rsa['Spearman rho'].min(), rsa['Spearman rho'].max()\n",
    "for ax, (roi, feature_df) in zip(axes, feature_group):\n",
    "    sns.barplot(x='feature', y='Spearman rho',\n",
    "                 data=feature_df, ax=ax, color='gray')\n",
    "    if roi in ['EVC', 'LOC', 'pSTS']:\n",
    "        ax.set_ylabel('Spearman rho')\n",
    "    else:\n",
    "        ax.set_ylabel('')\n",
    "        \n",
    "    if roi in ['pSTS', 'face-pSTS', 'aSTS']:\n",
    "        ax.set_xlabel('Feature')\n",
    "        ax.set_xticklabels(feature_order, rotation=90, ha='center')\n",
    "    else:\n",
    "        ax.set_xlabel('')\n",
    "        ax.tick_params(axis='x', which='both', length=0)\n",
    "\n",
    "    for bar, feature in zip(ax.patches, feature_order):\n",
    "        color = feature2color(feature)\n",
    "        bar.set_color(color)\n",
    "        \n",
    "    ax.set_ylim([ymin, ymax])\n",
    "    ax.hlines(y=0, xmin=ax.get_xlim()[0], xmax=ax.get_xlim()[1],\n",
    "        colors='gray', linestyles='solid', zorder=1)\n",
    "    ax.spines['top'].set_visible(False)\n",
    "    ax.spines['right'].set_visible(False)\n",
    "    ax.spines['bottom'].set_visible(False)\n",
    "    ax.set_title(roi)\n",
    "plt.tight_layout()\n",
    "if decoding: \n",
    "    plt.savefig(f'{figure_path}/{subj}_set-{stimulus_set}_rsa-decoding.png')\n",
    "else:\n",
    "    plt.savefig(f'{figure_path}/{subj}_set-{stimulus_set}_rsa-correlation.png')"
   ]
  },
  {
   "cell_type": "code",
   "execution_count": null,
   "metadata": {},
   "outputs": [],
   "source": []
  }
 ],
 "metadata": {
  "kernelspec": {
   "display_name": "nibabel",
   "language": "python",
   "name": "python3"
  },
  "language_info": {
   "codemirror_mode": {
    "name": "ipython",
    "version": 3
   },
   "file_extension": ".py",
   "mimetype": "text/x-python",
   "name": "python",
   "nbconvert_exporter": "python",
   "pygments_lexer": "ipython3",
   "version": "3.10.11"
  }
 },
 "nbformat": 4,
 "nbformat_minor": 2
}
