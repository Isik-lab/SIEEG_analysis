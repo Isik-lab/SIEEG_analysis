{
 "cells": [
  {
   "cell_type": "code",
   "execution_count": 1,
   "id": "17eee03d",
   "metadata": {},
   "outputs": [],
   "source": [
    "%load_ext autoreload\n",
    "%autoreload 2"
   ]
  },
  {
   "cell_type": "code",
   "execution_count": 2,
   "id": "1ac1014d-a0b6-4fb8-9850-ee50867113ee",
   "metadata": {},
   "outputs": [],
   "source": [
    "import os\n",
    "from glob import glob\n",
    "import numpy as np\n",
    "from numpy import matlib\n",
    "import pandas as pd\n",
    "import matplotlib.pyplot as plt\n",
    "import seaborn as sns\n",
    "from pathlib import Path\n",
    "from src import plotting\n",
    "from scipy import ndimage\n",
    "from tqdm import tqdm\n",
    "import warnings\n",
    "import nibabel as nib"
   ]
  },
  {
   "cell_type": "code",
   "execution_count": 3,
   "id": "15735218-fc3b-4e28-9d81-26b6565e25c1",
   "metadata": {},
   "outputs": [],
   "source": [
    "process = 'PlotWholeBrain'\n",
    "top_path = '/Users/emcmaho7/Dropbox/projects/SI_EEG/SIEEG_analysis'\n",
    "input_path = f'{top_path}/data/interim'\n",
    "raw_path = f'{top_path}/data/raw'\n",
    "out_path = f'{top_path}/data/interim/{process}'\n",
    "figure_path = f'{top_path}/reports/figures/{process}'\n",
    "Path(out_path).mkdir(parents=True, exist_ok=True)\n",
    "Path(figure_path).mkdir(parents=True, exist_ok=True)\n",
    "\n",
    "plotting_subj = 2\n",
    "start, end = -100, 750"
   ]
  },
  {
   "cell_type": "markdown",
   "id": "c0234183-b3c3-4269-b41f-1b0a0974b85f",
   "metadata": {},
   "source": [
    "## fMRI Whole Brain"
   ]
  },
  {
   "cell_type": "code",
   "execution_count": 4,
   "id": "04d17bc8-4ea6-48a8-9231-27275c061b54",
   "metadata": {},
   "outputs": [
    {
     "name": "stderr",
     "output_type": "stream",
     "text": [
      "/Applications/anaconda3/envs/nibabel/lib/python3.10/site-packages/tqdm/auto.py:21: TqdmWarning: IProgress not found. Please update jupyter and ipywidgets. See https://ipywidgets.readthedocs.io/en/stable/user_install.html\n",
      "  from .autonotebook import tqdm as notebook_tqdm\n"
     ]
    }
   ],
   "source": [
    "import nibabel as nib\n",
    "import numpy as np\n",
    "from nilearn import plotting, surface\n",
    "import nibabel as nib\n",
    "from src.tools import camera_switcher\n",
    "import cv2\n",
    "import os\n",
    "import re\n",
    "import warnings\n",
    "\n",
    "os.environ[\"SUBJECTS_DIR\"] = \"/Users/emcmaho7/Dropbox/projects/SI_EEG/SIEEG_analysis/data/raw/freesurfer\"\n",
    "os.environ[\"FREESURFER_HOME\"] = \"/Applications/freesurfer\"\n",
    "\n",
    "\n",
    "def compute_surf_stats(prefix, sub, hemi):\n",
    "    file = f'{prefix}_hemi-{hemi}.mgz'\n",
    "    if not os.path.exists(file):\n",
    "        cmd = '/Applications/freesurfer/bin/mri_vol2surf '\n",
    "        cmd += f'--src {prefix}.nii.gz '\n",
    "        cmd += f'--out {file} '\n",
    "        cmd += f'--regheader sub-{sub} '\n",
    "        cmd += f'--hemi {hemi} '\n",
    "        cmd += '--projfrac 1 '\n",
    "        cmd += '> /dev/null 2>&1'\n",
    "        os.system(cmd)\n",
    "    return surface.load_surf_data(file)\n",
    "\n",
    "\n",
    "def load_surf_mesh(path, sub, hemi):\n",
    "    return f'{path}/freesurfer/sub-{sub}/surf/{hemi}.inflated', \\\n",
    "            f'{path}/freesurfer/sub-{sub}/surf/{hemi}.sulc'\n",
    "\n",
    "\n",
    "def plot_stats(surf_mesh, bg_map, surf_map, hemi_, figure_prefix,\n",
    "               vmax=0.3, threshold=1e-6, \n",
    "               title=None, cmap_name='magma', \n",
    "               views=['ventral', 'medial', 'lateral']):\n",
    "    cmap=sns.color_palette(cmap_name, as_cmap=True)\n",
    "    hemi_name = 'left' if hemi_ == 'lh' else 'right'\n",
    "    \n",
    "    for view in views:\n",
    "        with warnings.catch_warnings():\n",
    "            warnings.filterwarnings(\"ignore\", message=\"choosing both vmin and a threshold is not allowed; setting vmin to 0\")\n",
    "            fig = plotting.plot_surf_roi(surf_mesh=surf_mesh,\n",
    "                                        roi_map=surf_map,\n",
    "                                        bg_map=bg_map,\n",
    "                                        vmax=vmax,\n",
    "                                        vmin=0., \n",
    "                                        engine='plotly',\n",
    "                                        colorbar=True,\n",
    "                                        view=view,\n",
    "                                        cmap=cmap,\n",
    "                                        title=title,\n",
    "                                        title_font_size=30,\n",
    "                                        hemi=hemi_name,\n",
    "                                        kwargs={'symmetric_cmap': False})\n",
    "            fig.figure.update_layout(coloraxis_colorbar=dict(\n",
    "                                    title='Explained variance ($r^2$)',\n",
    "                                    tickvals=[0, vmax],  # Positions of the ticks\n",
    "                                    ticktext=list(np.linspace(0, vmax, 4).round(2)),\n",
    "                                    thickness=25,\n",
    "                                    len=0.75,\n",
    "                                    x=1.02),\n",
    "                                     scene_camera=camera_switcher(hemi_, view))\n",
    "            fig.figure.write_image(f'{figure_prefix}_view-{view}_hemi-{hemi_}.png')\n",
    "\n",
    "\n",
    "def pngs_to_mp4(input_folder, output_file,\n",
    "                file_pattern, fps=9, frame_size=None,\n",
    "                start_frame=None, end_frame=None):\n",
    "    \"\"\"\n",
    "    Converts a series of PNG images in a folder into an MP4 video file.\n",
    "\n",
    "    Parameters:\n",
    "    - input_folder: Path to the folder containing PNG images.\n",
    "    - output_file: Path to save the MP4 video file.\n",
    "    - fps: Frames per second in the output video.\n",
    "    - frame_size: Tuple of (width, height) for the video frame size. If None, the size of the first image is used.\n",
    "    \"\"\"\n",
    "\n",
    "    # Get all the PNG files in the folder\n",
    "    images = glob(os.path.join(input_folder, file_pattern))\n",
    "    images = sorted(images)  # Sort the images by name\n",
    "    if start_frame is not None and end_frame is not None: \n",
    "        images = [image for image in images if start_frame < int(re.search(\"timepoint-(\\d+)\", image).group(1)) < end_frame]\n",
    "\n",
    "    # Define the codec and create VideoWriter object\n",
    "    fourcc = cv2.VideoWriter_fourcc(*'mp4v')  # Codec used to compress the frames\n",
    "    if not frame_size:\n",
    "        # If frame size is not specified, use the first image to determine the size\n",
    "        first_image = cv2.imread(images[0])\n",
    "        frame_size = (first_image.shape[1], first_image.shape[0])\n",
    "    out = cv2.VideoWriter(output_file, fourcc, fps, frame_size)\n",
    "\n",
    "    for image_path in images:\n",
    "        img = cv2.imread(image_path)\n",
    "        # Resize the image to match the frame size, if necessary\n",
    "        if img.shape[1] != frame_size[0] or img.shape[0] != frame_size[1]:\n",
    "            img = cv2.resize(img, frame_size)\n",
    "        out.write(img)\n",
    "\n",
    "    # Release everything when the job is finished\n",
    "    out.release()\n",
    "    cv2.destroyAllWindows()"
   ]
  },
  {
   "cell_type": "code",
   "execution_count": 5,
   "id": "950d758e-1ee5-4012-90ea-32c1d5b7394a",
   "metadata": {},
   "outputs": [
    {
     "ename": "KeyboardInterrupt",
     "evalue": "",
     "output_type": "error",
     "traceback": [
      "\u001b[0;31m---------------------------------------------------------------------------\u001b[0m",
      "\u001b[0;31mKeyboardInterrupt\u001b[0m                         Traceback (most recent call last)",
      "Cell \u001b[0;32mIn[5], line 16\u001b[0m\n\u001b[1;32m     14\u001b[0m surf[surf \u001b[38;5;241m<\u001b[39m \u001b[38;5;241m0\u001b[39m] \u001b[38;5;241m=\u001b[39m \u001b[38;5;241m0\u001b[39m\n\u001b[1;32m     15\u001b[0m inflated, sulcus \u001b[38;5;241m=\u001b[39m load_surf_mesh(raw_path, subj_id, hemi)\n\u001b[0;32m---> 16\u001b[0m \u001b[43mplot_stats\u001b[49m\u001b[43m(\u001b[49m\u001b[43minflated\u001b[49m\u001b[43m,\u001b[49m\u001b[43m \u001b[49m\u001b[43msulcus\u001b[49m\u001b[43m,\u001b[49m\u001b[43m \u001b[49m\u001b[43msurf\u001b[49m\u001b[43m,\u001b[49m\u001b[43m \u001b[49m\u001b[43mhemi\u001b[49m\u001b[43m,\u001b[49m\u001b[43m \u001b[49m\u001b[43mplot_file\u001b[49m\u001b[43m,\u001b[49m\n\u001b[1;32m     17\u001b[0m \u001b[43m        \u001b[49m\u001b[43mtitle\u001b[49m\u001b[38;5;241;43m=\u001b[39;49m\u001b[38;5;124;43mf\u001b[39;49m\u001b[38;5;124;43m'\u001b[39;49m\u001b[38;5;132;43;01m{\u001b[39;49;00m\u001b[43mtime\u001b[49m\u001b[38;5;132;43;01m:\u001b[39;49;00m\u001b[38;5;124;43m.0f\u001b[39;49m\u001b[38;5;132;43;01m}\u001b[39;49;00m\u001b[38;5;124;43m ms\u001b[39;49m\u001b[38;5;124;43m'\u001b[39;49m\u001b[43m,\u001b[49m\u001b[43m \u001b[49m\u001b[43mcmap_name\u001b[49m\u001b[38;5;241;43m=\u001b[39;49m\u001b[38;5;124;43m'\u001b[39;49m\u001b[38;5;124;43mrocket\u001b[39;49m\u001b[38;5;124;43m'\u001b[39;49m\u001b[43m,\u001b[49m\n\u001b[1;32m     18\u001b[0m \u001b[43m        \u001b[49m\u001b[43mviews\u001b[49m\u001b[38;5;241;43m=\u001b[39;49m\u001b[43mviews\u001b[49m\u001b[43m,\u001b[49m\u001b[43m \u001b[49m\u001b[43mvmax\u001b[49m\u001b[38;5;241;43m=\u001b[39;49m\u001b[38;5;241;43m.5\u001b[39;49m\u001b[43m)\u001b[49m\n",
      "Cell \u001b[0;32mIn[4], line 65\u001b[0m, in \u001b[0;36mplot_stats\u001b[0;34m(surf_mesh, bg_map, surf_map, hemi_, figure_prefix, vmax, threshold, title, cmap_name, views)\u001b[0m\n\u001b[1;32m     44\u001b[0m fig \u001b[38;5;241m=\u001b[39m plotting\u001b[38;5;241m.\u001b[39mplot_surf_roi(surf_mesh\u001b[38;5;241m=\u001b[39msurf_mesh,\n\u001b[1;32m     45\u001b[0m                             roi_map\u001b[38;5;241m=\u001b[39msurf_map,\n\u001b[1;32m     46\u001b[0m                             bg_map\u001b[38;5;241m=\u001b[39mbg_map,\n\u001b[0;32m   (...)\u001b[0m\n\u001b[1;32m     55\u001b[0m                             hemi\u001b[38;5;241m=\u001b[39mhemi_name,\n\u001b[1;32m     56\u001b[0m                             kwargs\u001b[38;5;241m=\u001b[39m{\u001b[38;5;124m'\u001b[39m\u001b[38;5;124msymmetric_cmap\u001b[39m\u001b[38;5;124m'\u001b[39m: \u001b[38;5;28;01mFalse\u001b[39;00m})\n\u001b[1;32m     57\u001b[0m fig\u001b[38;5;241m.\u001b[39mfigure\u001b[38;5;241m.\u001b[39mupdate_layout(coloraxis_colorbar\u001b[38;5;241m=\u001b[39m\u001b[38;5;28mdict\u001b[39m(\n\u001b[1;32m     58\u001b[0m                         title\u001b[38;5;241m=\u001b[39m\u001b[38;5;124m'\u001b[39m\u001b[38;5;124mExplained variance ($r^2$)\u001b[39m\u001b[38;5;124m'\u001b[39m,\n\u001b[1;32m     59\u001b[0m                         tickvals\u001b[38;5;241m=\u001b[39m[\u001b[38;5;241m0\u001b[39m, vmax],  \u001b[38;5;66;03m# Positions of the ticks\u001b[39;00m\n\u001b[0;32m   (...)\u001b[0m\n\u001b[1;32m     63\u001b[0m                         x\u001b[38;5;241m=\u001b[39m\u001b[38;5;241m1.02\u001b[39m),\n\u001b[1;32m     64\u001b[0m                          scene_camera\u001b[38;5;241m=\u001b[39mcamera_switcher(hemi_, view))\n\u001b[0;32m---> 65\u001b[0m \u001b[43mfig\u001b[49m\u001b[38;5;241;43m.\u001b[39;49m\u001b[43mfigure\u001b[49m\u001b[38;5;241;43m.\u001b[39;49m\u001b[43mwrite_image\u001b[49m\u001b[43m(\u001b[49m\u001b[38;5;124;43mf\u001b[39;49m\u001b[38;5;124;43m'\u001b[39;49m\u001b[38;5;132;43;01m{\u001b[39;49;00m\u001b[43mfigure_prefix\u001b[49m\u001b[38;5;132;43;01m}\u001b[39;49;00m\u001b[38;5;124;43m_view-\u001b[39;49m\u001b[38;5;132;43;01m{\u001b[39;49;00m\u001b[43mview\u001b[49m\u001b[38;5;132;43;01m}\u001b[39;49;00m\u001b[38;5;124;43m_hemi-\u001b[39;49m\u001b[38;5;132;43;01m{\u001b[39;49;00m\u001b[43mhemi_\u001b[49m\u001b[38;5;132;43;01m}\u001b[39;49;00m\u001b[38;5;124;43m.png\u001b[39;49m\u001b[38;5;124;43m'\u001b[39;49m\u001b[43m)\u001b[49m\n",
      "File \u001b[0;32m/Applications/anaconda3/envs/nibabel/lib/python3.10/site-packages/plotly/basedatatypes.py:3841\u001b[0m, in \u001b[0;36mBaseFigure.write_image\u001b[0;34m(self, *args, **kwargs)\u001b[0m\n\u001b[1;32m   3781\u001b[0m \u001b[38;5;250m\u001b[39m\u001b[38;5;124;03m\"\"\"\u001b[39;00m\n\u001b[1;32m   3782\u001b[0m \u001b[38;5;124;03mConvert a figure to a static image and write it to a file or writeable\u001b[39;00m\n\u001b[1;32m   3783\u001b[0m \u001b[38;5;124;03mobject\u001b[39;00m\n\u001b[0;32m   (...)\u001b[0m\n\u001b[1;32m   3837\u001b[0m \u001b[38;5;124;03mNone\u001b[39;00m\n\u001b[1;32m   3838\u001b[0m \u001b[38;5;124;03m\"\"\"\u001b[39;00m\n\u001b[1;32m   3839\u001b[0m \u001b[38;5;28;01mimport\u001b[39;00m \u001b[38;5;21;01mplotly\u001b[39;00m\u001b[38;5;21;01m.\u001b[39;00m\u001b[38;5;21;01mio\u001b[39;00m \u001b[38;5;28;01mas\u001b[39;00m \u001b[38;5;21;01mpio\u001b[39;00m\n\u001b[0;32m-> 3841\u001b[0m \u001b[38;5;28;01mreturn\u001b[39;00m \u001b[43mpio\u001b[49m\u001b[38;5;241;43m.\u001b[39;49m\u001b[43mwrite_image\u001b[49m\u001b[43m(\u001b[49m\u001b[38;5;28;43mself\u001b[39;49m\u001b[43m,\u001b[49m\u001b[43m \u001b[49m\u001b[38;5;241;43m*\u001b[39;49m\u001b[43margs\u001b[49m\u001b[43m,\u001b[49m\u001b[43m \u001b[49m\u001b[38;5;241;43m*\u001b[39;49m\u001b[38;5;241;43m*\u001b[39;49m\u001b[43mkwargs\u001b[49m\u001b[43m)\u001b[49m\n",
      "File \u001b[0;32m/Applications/anaconda3/envs/nibabel/lib/python3.10/site-packages/plotly/io/_kaleido.py:266\u001b[0m, in \u001b[0;36mwrite_image\u001b[0;34m(fig, file, format, scale, width, height, validate, engine)\u001b[0m\n\u001b[1;32m    250\u001b[0m             \u001b[38;5;28;01mraise\u001b[39;00m \u001b[38;5;167;01mValueError\u001b[39;00m(\n\u001b[1;32m    251\u001b[0m \u001b[38;5;250m                \u001b[39m\u001b[38;5;124;03m\"\"\"\u001b[39;00m\n\u001b[1;32m    252\u001b[0m \u001b[38;5;124;03mCannot infer image type from output path '{file}'.\u001b[39;00m\n\u001b[0;32m   (...)\u001b[0m\n\u001b[1;32m    260\u001b[0m                 )\n\u001b[1;32m    261\u001b[0m             )\n\u001b[1;32m    263\u001b[0m     \u001b[38;5;66;03m# Request image\u001b[39;00m\n\u001b[1;32m    264\u001b[0m     \u001b[38;5;66;03m# -------------\u001b[39;00m\n\u001b[1;32m    265\u001b[0m     \u001b[38;5;66;03m# Do this first so we don't create a file if image conversion fails\u001b[39;00m\n\u001b[0;32m--> 266\u001b[0m     img_data \u001b[38;5;241m=\u001b[39m \u001b[43mto_image\u001b[49m\u001b[43m(\u001b[49m\n\u001b[1;32m    267\u001b[0m \u001b[43m        \u001b[49m\u001b[43mfig\u001b[49m\u001b[43m,\u001b[49m\n\u001b[1;32m    268\u001b[0m \u001b[43m        \u001b[49m\u001b[38;5;28;43mformat\u001b[39;49m\u001b[38;5;241;43m=\u001b[39;49m\u001b[38;5;28;43mformat\u001b[39;49m\u001b[43m,\u001b[49m\n\u001b[1;32m    269\u001b[0m \u001b[43m        \u001b[49m\u001b[43mscale\u001b[49m\u001b[38;5;241;43m=\u001b[39;49m\u001b[43mscale\u001b[49m\u001b[43m,\u001b[49m\n\u001b[1;32m    270\u001b[0m \u001b[43m        \u001b[49m\u001b[43mwidth\u001b[49m\u001b[38;5;241;43m=\u001b[39;49m\u001b[43mwidth\u001b[49m\u001b[43m,\u001b[49m\n\u001b[1;32m    271\u001b[0m \u001b[43m        \u001b[49m\u001b[43mheight\u001b[49m\u001b[38;5;241;43m=\u001b[39;49m\u001b[43mheight\u001b[49m\u001b[43m,\u001b[49m\n\u001b[1;32m    272\u001b[0m \u001b[43m        \u001b[49m\u001b[43mvalidate\u001b[49m\u001b[38;5;241;43m=\u001b[39;49m\u001b[43mvalidate\u001b[49m\u001b[43m,\u001b[49m\n\u001b[1;32m    273\u001b[0m \u001b[43m        \u001b[49m\u001b[43mengine\u001b[49m\u001b[38;5;241;43m=\u001b[39;49m\u001b[43mengine\u001b[49m\u001b[43m,\u001b[49m\n\u001b[1;32m    274\u001b[0m \u001b[43m    \u001b[49m\u001b[43m)\u001b[49m\n\u001b[1;32m    276\u001b[0m     \u001b[38;5;66;03m# Open file\u001b[39;00m\n\u001b[1;32m    277\u001b[0m     \u001b[38;5;66;03m# ---------\u001b[39;00m\n\u001b[1;32m    278\u001b[0m     \u001b[38;5;28;01mif\u001b[39;00m path \u001b[38;5;129;01mis\u001b[39;00m \u001b[38;5;28;01mNone\u001b[39;00m:\n\u001b[1;32m    279\u001b[0m         \u001b[38;5;66;03m# We previously failed to make sense of `file` as a pathlib object.\u001b[39;00m\n\u001b[1;32m    280\u001b[0m         \u001b[38;5;66;03m# Attempt to write to `file` as an open file descriptor.\u001b[39;00m\n",
      "File \u001b[0;32m/Applications/anaconda3/envs/nibabel/lib/python3.10/site-packages/plotly/io/_kaleido.py:143\u001b[0m, in \u001b[0;36mto_image\u001b[0;34m(fig, format, width, height, scale, validate, engine)\u001b[0m\n\u001b[1;32m    140\u001b[0m \u001b[38;5;66;03m# Validate figure\u001b[39;00m\n\u001b[1;32m    141\u001b[0m \u001b[38;5;66;03m# ---------------\u001b[39;00m\n\u001b[1;32m    142\u001b[0m fig_dict \u001b[38;5;241m=\u001b[39m validate_coerce_fig_to_dict(fig, validate)\n\u001b[0;32m--> 143\u001b[0m img_bytes \u001b[38;5;241m=\u001b[39m \u001b[43mscope\u001b[49m\u001b[38;5;241;43m.\u001b[39;49m\u001b[43mtransform\u001b[49m\u001b[43m(\u001b[49m\n\u001b[1;32m    144\u001b[0m \u001b[43m    \u001b[49m\u001b[43mfig_dict\u001b[49m\u001b[43m,\u001b[49m\u001b[43m \u001b[49m\u001b[38;5;28;43mformat\u001b[39;49m\u001b[38;5;241;43m=\u001b[39;49m\u001b[38;5;28;43mformat\u001b[39;49m\u001b[43m,\u001b[49m\u001b[43m \u001b[49m\u001b[43mwidth\u001b[49m\u001b[38;5;241;43m=\u001b[39;49m\u001b[43mwidth\u001b[49m\u001b[43m,\u001b[49m\u001b[43m \u001b[49m\u001b[43mheight\u001b[49m\u001b[38;5;241;43m=\u001b[39;49m\u001b[43mheight\u001b[49m\u001b[43m,\u001b[49m\u001b[43m \u001b[49m\u001b[43mscale\u001b[49m\u001b[38;5;241;43m=\u001b[39;49m\u001b[43mscale\u001b[49m\n\u001b[1;32m    145\u001b[0m \u001b[43m\u001b[49m\u001b[43m)\u001b[49m\n\u001b[1;32m    147\u001b[0m \u001b[38;5;28;01mreturn\u001b[39;00m img_bytes\n",
      "File \u001b[0;32m/Applications/anaconda3/envs/nibabel/lib/python3.10/site-packages/kaleido/scopes/plotly.py:153\u001b[0m, in \u001b[0;36mPlotlyScope.transform\u001b[0;34m(self, figure, format, width, height, scale)\u001b[0m\n\u001b[1;32m    142\u001b[0m     \u001b[38;5;28;01mraise\u001b[39;00m \u001b[38;5;167;01mValueError\u001b[39;00m(\n\u001b[1;32m    143\u001b[0m         \u001b[38;5;124m\"\u001b[39m\u001b[38;5;124mInvalid format \u001b[39m\u001b[38;5;124m'\u001b[39m\u001b[38;5;132;01m{original_format}\u001b[39;00m\u001b[38;5;124m'\u001b[39m\u001b[38;5;124m.\u001b[39m\u001b[38;5;130;01m\\n\u001b[39;00m\u001b[38;5;124m\"\u001b[39m\n\u001b[1;32m    144\u001b[0m         \u001b[38;5;124m\"\u001b[39m\u001b[38;5;124m    Supported formats: \u001b[39m\u001b[38;5;132;01m{supported_formats_str}\u001b[39;00m\u001b[38;5;124m\"\u001b[39m\n\u001b[0;32m   (...)\u001b[0m\n\u001b[1;32m    148\u001b[0m         )\n\u001b[1;32m    149\u001b[0m     )\n\u001b[1;32m    151\u001b[0m \u001b[38;5;66;03m# Transform in using _perform_transform rather than superclass so we can access the full\u001b[39;00m\n\u001b[1;32m    152\u001b[0m \u001b[38;5;66;03m# response dict, including error codes.\u001b[39;00m\n\u001b[0;32m--> 153\u001b[0m response \u001b[38;5;241m=\u001b[39m \u001b[38;5;28;43mself\u001b[39;49m\u001b[38;5;241;43m.\u001b[39;49m\u001b[43m_perform_transform\u001b[49m\u001b[43m(\u001b[49m\n\u001b[1;32m    154\u001b[0m \u001b[43m    \u001b[49m\u001b[43mfigure\u001b[49m\u001b[43m,\u001b[49m\u001b[43m \u001b[49m\u001b[38;5;28;43mformat\u001b[39;49m\u001b[38;5;241;43m=\u001b[39;49m\u001b[38;5;28;43mformat\u001b[39;49m\u001b[43m,\u001b[49m\u001b[43m \u001b[49m\u001b[43mwidth\u001b[49m\u001b[38;5;241;43m=\u001b[39;49m\u001b[43mwidth\u001b[49m\u001b[43m,\u001b[49m\u001b[43m \u001b[49m\u001b[43mheight\u001b[49m\u001b[38;5;241;43m=\u001b[39;49m\u001b[43mheight\u001b[49m\u001b[43m,\u001b[49m\u001b[43m \u001b[49m\u001b[43mscale\u001b[49m\u001b[38;5;241;43m=\u001b[39;49m\u001b[43mscale\u001b[49m\n\u001b[1;32m    155\u001b[0m \u001b[43m\u001b[49m\u001b[43m)\u001b[49m\n\u001b[1;32m    157\u001b[0m \u001b[38;5;66;03m# Check for export error, later can customize error messages for plotly Python users\u001b[39;00m\n\u001b[1;32m    158\u001b[0m code \u001b[38;5;241m=\u001b[39m response\u001b[38;5;241m.\u001b[39mget(\u001b[38;5;124m\"\u001b[39m\u001b[38;5;124mcode\u001b[39m\u001b[38;5;124m\"\u001b[39m, \u001b[38;5;241m0\u001b[39m)\n",
      "File \u001b[0;32m/Applications/anaconda3/envs/nibabel/lib/python3.10/site-packages/kaleido/scopes/base.py:305\u001b[0m, in \u001b[0;36mBaseScope._perform_transform\u001b[0;34m(self, data, **kwargs)\u001b[0m\n\u001b[1;32m    302\u001b[0m \u001b[38;5;28mself\u001b[39m\u001b[38;5;241m.\u001b[39m_std_error \u001b[38;5;241m=\u001b[39m io\u001b[38;5;241m.\u001b[39mBytesIO()\n\u001b[1;32m    304\u001b[0m \u001b[38;5;66;03m# Write and flush spec\u001b[39;00m\n\u001b[0;32m--> 305\u001b[0m \u001b[38;5;28;43mself\u001b[39;49m\u001b[38;5;241;43m.\u001b[39;49m\u001b[43m_proc\u001b[49m\u001b[38;5;241;43m.\u001b[39;49m\u001b[43mstdin\u001b[49m\u001b[38;5;241;43m.\u001b[39;49m\u001b[43mwrite\u001b[49m\u001b[43m(\u001b[49m\u001b[43mexport_spec\u001b[49m\u001b[43m)\u001b[49m\n\u001b[1;32m    306\u001b[0m \u001b[38;5;28mself\u001b[39m\u001b[38;5;241m.\u001b[39m_proc\u001b[38;5;241m.\u001b[39mstdin\u001b[38;5;241m.\u001b[39mwrite(\u001b[38;5;124m\"\u001b[39m\u001b[38;5;130;01m\\n\u001b[39;00m\u001b[38;5;124m\"\u001b[39m\u001b[38;5;241m.\u001b[39mencode(\u001b[38;5;124m'\u001b[39m\u001b[38;5;124mutf-8\u001b[39m\u001b[38;5;124m'\u001b[39m))\n\u001b[1;32m    307\u001b[0m \u001b[38;5;28mself\u001b[39m\u001b[38;5;241m.\u001b[39m_proc\u001b[38;5;241m.\u001b[39mstdin\u001b[38;5;241m.\u001b[39mflush()\n",
      "\u001b[0;31mKeyboardInterrupt\u001b[0m: "
     ]
    }
   ],
   "source": [
    "hemis = ['lh', 'rh']\n",
    "views = ['ventral', 'medial', 'lateral']\n",
    "times = np.arange(-200, 1000, 10)\n",
    "\n",
    "subj_id = str(plotting_subj).zfill(2)\n",
    "files = sorted(glob(f'{input_path}/fMRIWholeBrain/sub-{subj_id}_time*.nii.gz'))\n",
    "for file, time in zip(files, times):\n",
    "    if time >= start and time <= end: \n",
    "        stat_file = file.split('.')[0]\n",
    "        plot_file_prefix = file.split('/')[-1].split('.')[0]\n",
    "        plot_file = f'{out_path}/{plot_file_prefix}.png'\n",
    "        for hemi in hemis:\n",
    "            surf = compute_surf_stats(stat_file, subj_id, hemi)\n",
    "            surf[surf < 0] = 0.01\n",
    "            inflated, sulcus = load_surf_mesh(raw_path, subj_id, hemi)\n",
    "            plot_stats(inflated, sulcus, surf, hemi, plot_file,\n",
    "                    title=f'{time:.0f} ms', cmap_name='rocket',\n",
    "                    views=views, vmax=.5)"
   ]
  },
  {
   "cell_type": "code",
   "execution_count": null,
   "id": "3c3d3677-e9d1-4bf8-8c48-1e8b551379c8",
   "metadata": {},
   "outputs": [],
   "source": [
    "for hemi in hemis: \n",
    "    for view in views:\n",
    "        output_file = f'{out_path}/sub-{str(plotting_subj).zfill(2)}_view-{view}_hemi-{hemi}.mp4'\n",
    "        file_pattern = f'sub-{str(plotting_subj).zfill(2)}*view-{view}*hemi-{hemi}*.png'\n",
    "        pngs_to_mp4(input_folder=f'{out_path}',\n",
    "                    output_file=output_file, fps=6,\n",
    "                    file_pattern=file_pattern, start_frame=6, end_frame=100)"
   ]
  },
  {
   "cell_type": "code",
   "execution_count": null,
   "id": "31476137-7faa-4a82-bfea-7f48726643b4",
   "metadata": {},
   "outputs": [],
   "source": []
  }
 ],
 "metadata": {
  "kernelspec": {
   "display_name": "nibabel",
   "language": "python",
   "name": "python3"
  },
  "language_info": {
   "codemirror_mode": {
    "name": "ipython",
    "version": 3
   },
   "file_extension": ".py",
   "mimetype": "text/x-python",
   "name": "python",
   "nbconvert_exporter": "python",
   "pygments_lexer": "ipython3",
   "version": "3.10.11"
  }
 },
 "nbformat": 4,
 "nbformat_minor": 5
}
