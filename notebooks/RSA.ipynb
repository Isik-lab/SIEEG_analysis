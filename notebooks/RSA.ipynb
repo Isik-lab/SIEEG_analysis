{
 "cells": [
  {
   "cell_type": "markdown",
   "id": "19985e3d-9ed9-4e96-b05c-aa7d9a905c7c",
   "metadata": {},
   "source": [
    "# RSA"
   ]
  },
  {
   "cell_type": "code",
   "execution_count": 1,
   "id": "7e9753de-2fa5-4bb9-ab23-f1a54bfc80aa",
   "metadata": {},
   "outputs": [],
   "source": [
    "from glob import glob\n",
    "import numpy as np\n",
    "import pandas as pd\n",
    "import matplotlib.pyplot as plt\n",
    "from scipy.io import loadmat"
   ]
  },
  {
   "cell_type": "code",
   "execution_count": 2,
   "id": "c656b620-1fbb-4937-9143-ca6439428264",
   "metadata": {},
   "outputs": [],
   "source": [
    "subj = 'subj001'\n",
    "subj_date = 'subj001_10062023';\n",
    "data_path = '../data'\n",
    "rdm_path = f'{data_path}/interim/PairwiseDecoding/{subj}'\n",
    "annotation_file = f'{data_path}/raw/annotations/annotations.csv'"
   ]
  },
  {
   "cell_type": "markdown",
   "id": "9804883d-bb71-4a47-bb9a-70525ad21a53",
   "metadata": {},
   "source": [
    "## Load RDM"
   ]
  },
  {
   "cell_type": "markdown",
   "id": "96cb2968-7d45-4fa9-904f-6df9948e8bd9",
   "metadata": {},
   "source": [
    "The RDMs are saved separately for each iteration (of 20). Load the RDMs and average them. Then plot the average RDM across time. This visualization is a check of the data quality. "
   ]
  },
  {
   "cell_type": "code",
   "execution_count": 4,
   "id": "223a27c1-e2c1-487c-8e67-175eba628fa8",
   "metadata": {},
   "outputs": [],
   "source": [
    "files = sorted(glob(f'{rdm_path}/*.csv'))\n",
    "rdm = []\n",
    "for f in files:\n",
    "    rdm.append(pd.read_csv(f))\n",
    "rdm = pd.concat(rdm)\n",
    "average_rdm = rdm.groupby(['v1', 'v2', 'time']).mean()"
   ]
  },
  {
   "cell_type": "code",
   "execution_count": 5,
   "id": "8c44a67b-3341-490e-b8e8-dd112f168982",
   "metadata": {},
   "outputs": [
    {
     "data": {
      "text/html": [
       "<div>\n",
       "<style scoped>\n",
       "    .dataframe tbody tr th:only-of-type {\n",
       "        vertical-align: middle;\n",
       "    }\n",
       "\n",
       "    .dataframe tbody tr th {\n",
       "        vertical-align: top;\n",
       "    }\n",
       "\n",
       "    .dataframe thead th {\n",
       "        text-align: right;\n",
       "    }\n",
       "</style>\n",
       "<table border=\"1\" class=\"dataframe\">\n",
       "  <thead>\n",
       "    <tr style=\"text-align: right;\">\n",
       "      <th></th>\n",
       "      <th></th>\n",
       "      <th></th>\n",
       "      <th>c1</th>\n",
       "      <th>c2</th>\n",
       "      <th>accuracy</th>\n",
       "      <th>perm</th>\n",
       "    </tr>\n",
       "    <tr>\n",
       "      <th>v1</th>\n",
       "      <th>v2</th>\n",
       "      <th>time</th>\n",
       "      <th></th>\n",
       "      <th></th>\n",
       "      <th></th>\n",
       "      <th></th>\n",
       "    </tr>\n",
       "  </thead>\n",
       "  <tbody>\n",
       "    <tr>\n",
       "      <th rowspan=\"5\" valign=\"top\">-YwZOeyAQC8_15.mp4</th>\n",
       "      <th rowspan=\"5\" valign=\"top\">1AIVH5cEWrI_35.mp4</th>\n",
       "      <th>-0.199</th>\n",
       "      <td>0.0</td>\n",
       "      <td>1.0</td>\n",
       "      <td>0.5</td>\n",
       "      <td>10.0</td>\n",
       "    </tr>\n",
       "    <tr>\n",
       "      <th>-0.194</th>\n",
       "      <td>0.0</td>\n",
       "      <td>1.0</td>\n",
       "      <td>0.5</td>\n",
       "      <td>10.0</td>\n",
       "    </tr>\n",
       "    <tr>\n",
       "      <th>-0.189</th>\n",
       "      <td>0.0</td>\n",
       "      <td>1.0</td>\n",
       "      <td>0.5</td>\n",
       "      <td>10.0</td>\n",
       "    </tr>\n",
       "    <tr>\n",
       "      <th>-0.184</th>\n",
       "      <td>0.0</td>\n",
       "      <td>1.0</td>\n",
       "      <td>0.5</td>\n",
       "      <td>10.0</td>\n",
       "    </tr>\n",
       "    <tr>\n",
       "      <th>-0.179</th>\n",
       "      <td>0.0</td>\n",
       "      <td>1.0</td>\n",
       "      <td>0.5</td>\n",
       "      <td>10.0</td>\n",
       "    </tr>\n",
       "  </tbody>\n",
       "</table>\n",
       "</div>"
      ],
      "text/plain": [
       "                                               c1   c2  accuracy  perm\n",
       "v1                 v2                 time                            \n",
       "-YwZOeyAQC8_15.mp4 1AIVH5cEWrI_35.mp4 -0.199  0.0  1.0       0.5  10.0\n",
       "                                      -0.194  0.0  1.0       0.5  10.0\n",
       "                                      -0.189  0.0  1.0       0.5  10.0\n",
       "                                      -0.184  0.0  1.0       0.5  10.0\n",
       "                                      -0.179  0.0  1.0       0.5  10.0"
      ]
     },
     "execution_count": 5,
     "metadata": {},
     "output_type": "execute_result"
    }
   ],
   "source": [
    "average_rdm.head()"
   ]
  },
  {
   "cell_type": "code",
   "execution_count": null,
   "id": "086589c7-51b9-44d6-beac-4e0fd53be8a2",
   "metadata": {},
   "outputs": [],
   "source": [
    "plotting_data = average_rdm.groupby('time').mean().accuracy.to_numpy()\n",
    "ymin, ymax = plotting_data.min()-.01, plotting_data.max()+.01"
   ]
  },
  {
   "cell_type": "code",
   "execution_count": null,
   "id": "b6ea4781-be4a-4b79-a132-38b244b5f0ff",
   "metadata": {},
   "outputs": [],
   "source": [
    "_, ax = plt.subplots()\n",
    "ax.plot(time, plotting_data)\n",
    "ax.set_xlabel('Time (s)')\n",
    "ax.set_ylabel('Decoding accuracy')\n",
    "ax.vlines(x=[0, 0.5], ymin=ymin, ymax=ymax,\n",
    "          colors='gray', linestyles='dashed', zorder=0)\n",
    "ax.hlines(y=.5, xmin=time.min(), xmax=time.max(),\n",
    "          colors='gray', linestyles='solid', zorder=0)\n",
    "ax.set_xlim([time.min(), time.max()])\n",
    "ax.set_ylim([ymin, ymax])\n",
    "ax.spines['top'].set_visible(False)\n",
    "ax.spines['right'].set_visible(False)\n",
    "ax.spines['bottom'].set_visible(False)"
   ]
  },
  {
   "cell_type": "markdown",
   "id": "bf6ac6fb-a609-4b03-8d54-8d70bfdc064e",
   "metadata": {},
   "source": [
    "## Feature RDMs"
   ]
  },
  {
   "cell_type": "markdown",
   "id": "21578f83-00f3-4411-9642-7a710c320bff",
   "metadata": {},
   "source": [
    "Load the feature annotations and make the RDMs. Care needs to be paid to ensure that that the order of the vidoes across the two RDMs is consistent. "
   ]
  },
  {
   "cell_type": "code",
   "execution_count": null,
   "id": "40d83365-4c18-4d91-bbff-35e6420c1149",
   "metadata": {},
   "outputs": [],
   "source": [
    "from scipy.spatial.distance import pdist, squareform"
   ]
  },
  {
   "cell_type": "code",
   "execution_count": null,
   "id": "ec91dda9-da46-474c-8d0f-99f9cdca9b6e",
   "metadata": {},
   "outputs": [],
   "source": [
    "features_to_exclude = ['dominance', 'cooperation', 'intimacy']"
   ]
  },
  {
   "cell_type": "code",
   "execution_count": null,
   "id": "c0d667fb-0b99-4821-9ad4-26c858af80ab",
   "metadata": {},
   "outputs": [],
   "source": [
    "df = pd.read_csv(annotation_file).set_index('video_name')\n",
    "df = df.drop(columns=features_to_exclude)\n",
    "df.head()"
   ]
  },
  {
   "cell_type": "code",
   "execution_count": null,
   "id": "28b141cd-2f92-4160-91d9-b8716a2b01c3",
   "metadata": {},
   "outputs": [],
   "source": [
    "feature_rdms = {}\n",
    "for col in df.columns:\n",
    "    arr = np.expand_dims(df[col].to_numpy(), axis=1)\n",
    "    feature_rdms[col] = pdist(arr, metric='euclidean')"
   ]
  },
  {
   "cell_type": "markdown",
   "id": "10de340f-aebf-4b66-90b5-51b4ae060418",
   "metadata": {},
   "source": [
    "## Correlate Features and EEG"
   ]
  },
  {
   "cell_type": "code",
   "execution_count": null,
   "id": "e1f5ac89-ae19-401a-88c5-d59003478b0e",
   "metadata": {},
   "outputs": [],
   "source": [
    "from src.tools import corr"
   ]
  },
  {
   "cell_type": "code",
   "execution_count": null,
   "id": "76a8a73f-5d95-448c-b530-72fb1249a51a",
   "metadata": {},
   "outputs": [],
   "source": [
    "rsa = {}\n",
    "for key, val in feature_rdms.items():\n",
    "    time_corr = np.zeros(average_upper_rdm.shape[-1])\n",
    "    for t in range(average_upper_rdm.shape[-1]):\n",
    "        time_corr[t] = corr(val, average_upper_rdm[:, t])\n",
    "    rsa[key] = time_corr"
   ]
  },
  {
   "cell_type": "code",
   "execution_count": null,
   "id": "08eeb1d1-0b52-47fa-add0-edbac80b2d60",
   "metadata": {},
   "outputs": [],
   "source": [
    "for key, val in rsa.items():\n",
    "    plt.plot(val, label=key)\n",
    "plt.legend()"
   ]
  },
  {
   "cell_type": "code",
   "execution_count": null,
   "id": "cbd6d547-dcfb-4c5e-8ab2-4678dec4f110",
   "metadata": {},
   "outputs": [],
   "source": [
    "plt.plt"
   ]
  }
 ],
 "metadata": {
  "kernelspec": {
   "display_name": "nibabel",
   "language": "python",
   "name": "nibabel"
  },
  "language_info": {
   "codemirror_mode": {
    "name": "ipython",
    "version": 3
   },
   "file_extension": ".py",
   "mimetype": "text/x-python",
   "name": "python",
   "nbconvert_exporter": "python",
   "pygments_lexer": "ipython3",
   "version": "3.10.11"
  }
 },
 "nbformat": 4,
 "nbformat_minor": 5
}
